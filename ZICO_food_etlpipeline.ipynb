{
 "cells": [
  {
   "cell_type": "code",
   "execution_count": null,
   "metadata": {},
   "outputs": [],
   "source": [
    "# install the following package \n",
    "%pip install pandas\n",
    "%pip install azure-storage-blob\n",
    "%pip install python-dotenv\n"
   ]
  },
  {
   "cell_type": "code",
   "execution_count": 5,
   "metadata": {},
   "outputs": [],
   "source": [
    "# import the necessaet liberay\n",
    "import pandas as pd \n",
    "from azure.storage.blob import BlobServiceClient\n",
    "from azure.storage.blob import BlobClient\n",
    "from dotenv import load_dotenv\n",
    "import os "
   ]
  },
  {
   "cell_type": "code",
   "execution_count": 17,
   "metadata": {},
   "outputs": [
    {
     "data": {
      "text/html": [
       "<div>\n",
       "<style scoped>\n",
       "    .dataframe tbody tr th:only-of-type {\n",
       "        vertical-align: middle;\n",
       "    }\n",
       "\n",
       "    .dataframe tbody tr th {\n",
       "        vertical-align: top;\n",
       "    }\n",
       "\n",
       "    .dataframe thead th {\n",
       "        text-align: right;\n",
       "    }\n",
       "</style>\n",
       "<table border=\"1\" class=\"dataframe\">\n",
       "  <thead>\n",
       "    <tr style=\"text-align: right;\">\n",
       "      <th></th>\n",
       "      <th>OrderID</th>\n",
       "      <th>ProductID</th>\n",
       "      <th>ProductName</th>\n",
       "      <th>CategoryID</th>\n",
       "      <th>CategoryName</th>\n",
       "      <th>Quantity</th>\n",
       "      <th>UnitPrice</th>\n",
       "      <th>TotalPrice</th>\n",
       "      <th>CustomerID</th>\n",
       "      <th>CustomerName</th>\n",
       "      <th>CustomerEmail</th>\n",
       "      <th>OrderDate</th>\n",
       "      <th>ShippingDate</th>\n",
       "      <th>DeliveryDate</th>\n",
       "      <th>ShippingAddress</th>\n",
       "      <th>OrderStatus</th>\n",
       "      <th>PaymentMethod</th>\n",
       "      <th>Rating</th>\n",
       "      <th>Review</th>\n",
       "      <th>NullColumn</th>\n",
       "    </tr>\n",
       "  </thead>\n",
       "  <tbody>\n",
       "    <tr>\n",
       "      <th>0</th>\n",
       "      <td>1</td>\n",
       "      <td>645</td>\n",
       "      <td>Product 645</td>\n",
       "      <td>44</td>\n",
       "      <td>Category 44</td>\n",
       "      <td>6</td>\n",
       "      <td>296.31</td>\n",
       "      <td>1777.86</td>\n",
       "      <td>8876</td>\n",
       "      <td>Stephanie Barker</td>\n",
       "      <td>marcus77@example.net</td>\n",
       "      <td>2022-10-10</td>\n",
       "      <td>2022-10-12</td>\n",
       "      <td>2022-10-18</td>\n",
       "      <td>42715 Robert Fields Apt. 765, North Kristinfur...</td>\n",
       "      <td>Delivered</td>\n",
       "      <td>Debit Card</td>\n",
       "      <td>1.0</td>\n",
       "      <td>Number worry audience discover.</td>\n",
       "      <td>modern</td>\n",
       "    </tr>\n",
       "    <tr>\n",
       "      <th>1</th>\n",
       "      <td>2</td>\n",
       "      <td>646</td>\n",
       "      <td>Product 646</td>\n",
       "      <td>3</td>\n",
       "      <td>Category 3</td>\n",
       "      <td>4</td>\n",
       "      <td>45.13</td>\n",
       "      <td>180.52</td>\n",
       "      <td>8848</td>\n",
       "      <td>Marcus Welch</td>\n",
       "      <td>patrickhudson@example.net</td>\n",
       "      <td>2022-02-13</td>\n",
       "      <td>2022-02-16</td>\n",
       "      <td>2022-02-20</td>\n",
       "      <td>0424 Silva Summit Apt. 784, Hallborough, NJ 09162</td>\n",
       "      <td>Cancelled</td>\n",
       "      <td>Credit Card</td>\n",
       "      <td>3.0</td>\n",
       "      <td>Everyone realize fund again whether movement w...</td>\n",
       "      <td>lose</td>\n",
       "    </tr>\n",
       "    <tr>\n",
       "      <th>2</th>\n",
       "      <td>3</td>\n",
       "      <td>945</td>\n",
       "      <td>Product 945</td>\n",
       "      <td>47</td>\n",
       "      <td>Category 47</td>\n",
       "      <td>2</td>\n",
       "      <td>611.25</td>\n",
       "      <td>1222.50</td>\n",
       "      <td>8020</td>\n",
       "      <td>David Rodriguez</td>\n",
       "      <td>david76@example.org</td>\n",
       "      <td>2023-07-07</td>\n",
       "      <td>2023-07-08</td>\n",
       "      <td>2023-07-09</td>\n",
       "      <td>0346 Julia Passage Suite 446, Beckerborough, F...</td>\n",
       "      <td>Pending</td>\n",
       "      <td>Debit Card</td>\n",
       "      <td>5.0</td>\n",
       "      <td>Everyone eat ok both degree stay PM.</td>\n",
       "      <td>NaN</td>\n",
       "    </tr>\n",
       "  </tbody>\n",
       "</table>\n",
       "</div>"
      ],
      "text/plain": [
       "   OrderID  ProductID  ProductName  CategoryID CategoryName  Quantity  \\\n",
       "0        1        645  Product 645          44  Category 44         6   \n",
       "1        2        646  Product 646           3   Category 3         4   \n",
       "2        3        945  Product 945          47  Category 47         2   \n",
       "\n",
       "   UnitPrice  TotalPrice  CustomerID      CustomerName  \\\n",
       "0     296.31     1777.86        8876  Stephanie Barker   \n",
       "1      45.13      180.52        8848      Marcus Welch   \n",
       "2     611.25     1222.50        8020   David Rodriguez   \n",
       "\n",
       "               CustomerEmail   OrderDate ShippingDate DeliveryDate  \\\n",
       "0       marcus77@example.net  2022-10-10   2022-10-12   2022-10-18   \n",
       "1  patrickhudson@example.net  2022-02-13   2022-02-16   2022-02-20   \n",
       "2        david76@example.org  2023-07-07   2023-07-08   2023-07-09   \n",
       "\n",
       "                                     ShippingAddress OrderStatus  \\\n",
       "0  42715 Robert Fields Apt. 765, North Kristinfur...   Delivered   \n",
       "1  0424 Silva Summit Apt. 784, Hallborough, NJ 09162   Cancelled   \n",
       "2  0346 Julia Passage Suite 446, Beckerborough, F...     Pending   \n",
       "\n",
       "  PaymentMethod  Rating                                             Review  \\\n",
       "0    Debit Card     1.0                    Number worry audience discover.   \n",
       "1   Credit Card     3.0  Everyone realize fund again whether movement w...   \n",
       "2    Debit Card     5.0               Everyone eat ok both degree stay PM.   \n",
       "\n",
       "  NullColumn  \n",
       "0     modern  \n",
       "1       lose  \n",
       "2        NaN  "
      ]
     },
     "execution_count": 17,
     "metadata": {},
     "output_type": "execute_result"
    }
   ],
   "source": [
    "#read dataset nto dataframe\n",
    "# read the dataset with pandas into dataframe\n",
    "df = pd.read_csv('ecommerce_dataset (2) - ecommerce_dataset (2).csv')\n",
    "df.head(3)"
   ]
  },
  {
   "cell_type": "code",
   "execution_count": 11,
   "metadata": {},
   "outputs": [
    {
     "data": {
      "text/plain": [
       "Index(['OrderID', 'ProductID', 'ProductName', 'CategoryID', 'CategoryName',\n",
       "       'Quantity', 'UnitPrice', 'TotalPrice', 'CustomerID', 'CustomerName',\n",
       "       'CustomerEmail', 'OrderDate', 'ShippingDate', 'DeliveryDate',\n",
       "       'ShippingAddress', 'OrderStatus', 'PaymentMethod', 'Rating', 'Review',\n",
       "       'NullColumn'],\n",
       "      dtype='object')"
      ]
     },
     "execution_count": 11,
     "metadata": {},
     "output_type": "execute_result"
    }
   ],
   "source": [
    "# the total column of the dataset\n",
    "df.columns"
   ]
  },
  {
   "cell_type": "code",
   "execution_count": 13,
   "metadata": {},
   "outputs": [
    {
     "name": "stdout",
     "output_type": "stream",
     "text": [
      "<class 'pandas.core.frame.DataFrame'>\n",
      "RangeIndex: 100000 entries, 0 to 99999\n",
      "Data columns (total 20 columns):\n",
      " #   Column           Non-Null Count   Dtype  \n",
      "---  ------           --------------   -----  \n",
      " 0   OrderID          100000 non-null  int64  \n",
      " 1   ProductID        100000 non-null  int64  \n",
      " 2   ProductName      100000 non-null  object \n",
      " 3   CategoryID       100000 non-null  int64  \n",
      " 4   CategoryName     100000 non-null  object \n",
      " 5   Quantity         100000 non-null  int64  \n",
      " 6   UnitPrice        100000 non-null  float64\n",
      " 7   TotalPrice       100000 non-null  float64\n",
      " 8   CustomerID       100000 non-null  int64  \n",
      " 9   CustomerName     100000 non-null  object \n",
      " 10  CustomerEmail    100000 non-null  object \n",
      " 11  OrderDate        100000 non-null  object \n",
      " 12  ShippingDate     100000 non-null  object \n",
      " 13  DeliveryDate     100000 non-null  object \n",
      " 14  ShippingAddress  100000 non-null  object \n",
      " 15  OrderStatus      100000 non-null  object \n",
      " 16  PaymentMethod    100000 non-null  object \n",
      " 17  Rating           80101 non-null   float64\n",
      " 18  Review           80101 non-null   object \n",
      " 19  NullColumn       70051 non-null   object \n",
      "dtypes: float64(3), int64(5), object(12)\n",
      "memory usage: 15.3+ MB\n"
     ]
    }
   ],
   "source": [
    "# the data types\n",
    "df.info()"
   ]
  },
  {
   "cell_type": "code",
   "execution_count": 14,
   "metadata": {},
   "outputs": [
    {
     "data": {
      "text/plain": [
       "OrderID                0\n",
       "ProductID              0\n",
       "ProductName            0\n",
       "CategoryID             0\n",
       "CategoryName           0\n",
       "Quantity               0\n",
       "UnitPrice              0\n",
       "TotalPrice             0\n",
       "CustomerID             0\n",
       "CustomerName           0\n",
       "CustomerEmail          0\n",
       "OrderDate              0\n",
       "ShippingDate           0\n",
       "DeliveryDate           0\n",
       "ShippingAddress        0\n",
       "OrderStatus            0\n",
       "PaymentMethod          0\n",
       "Rating             19899\n",
       "Review             19899\n",
       "NullColumn         29949\n",
       "dtype: int64"
      ]
     },
     "execution_count": 14,
     "metadata": {},
     "output_type": "execute_result"
    }
   ],
   "source": [
    "#' cheack for missing dataset\n",
    "df.isnull().sum()"
   ]
  },
  {
   "cell_type": "code",
   "execution_count": 15,
   "metadata": {},
   "outputs": [],
   "source": [
    "# fill the missing data\n",
    "df = df.fillna({\n",
    "    'Rating':0.0,\n",
    "    'Review':'unkown',\n",
    "    'NullColumn':'unkown'\n",
    "})"
   ]
  },
  {
   "cell_type": "code",
   "execution_count": 16,
   "metadata": {},
   "outputs": [
    {
     "data": {
      "text/plain": [
       "OrderID            False\n",
       "ProductID          False\n",
       "ProductName        False\n",
       "CategoryID         False\n",
       "CategoryName       False\n",
       "Quantity           False\n",
       "UnitPrice          False\n",
       "TotalPrice         False\n",
       "CustomerID         False\n",
       "CustomerName       False\n",
       "CustomerEmail      False\n",
       "OrderDate          False\n",
       "ShippingDate       False\n",
       "DeliveryDate       False\n",
       "ShippingAddress    False\n",
       "OrderStatus        False\n",
       "PaymentMethod      False\n",
       "Rating             False\n",
       "Review             False\n",
       "NullColumn         False\n",
       "dtype: bool"
      ]
     },
     "execution_count": 16,
     "metadata": {},
     "output_type": "execute_result"
    }
   ],
   "source": [
    "#checak for missing values in each column\n",
    "df.isnull().any()"
   ]
  },
  {
   "cell_type": "code",
   "execution_count": null,
   "metadata": {},
   "outputs": [],
   "source": [
    "#data transformation\n",
    "df."
   ]
  }
 ],
 "metadata": {
  "kernelspec": {
   "display_name": "base",
   "language": "python",
   "name": "python3"
  },
  "language_info": {
   "codemirror_mode": {
    "name": "ipython",
    "version": 3
   },
   "file_extension": ".py",
   "mimetype": "text/x-python",
   "name": "python",
   "nbconvert_exporter": "python",
   "pygments_lexer": "ipython3",
   "version": "3.12.4"
  }
 },
 "nbformat": 4,
 "nbformat_minor": 2
}
